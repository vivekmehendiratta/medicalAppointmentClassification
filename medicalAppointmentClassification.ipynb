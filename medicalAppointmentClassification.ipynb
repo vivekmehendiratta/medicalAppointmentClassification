{
 "cells": [
  {
   "cell_type": "code",
   "execution_count": 23,
   "metadata": {},
   "outputs": [],
   "source": [
    "import pandas as pd\n",
    "import numpy as np\n",
    "import matplotlib.pyplot as plt\n",
    "%matplotlib inline\n",
    "plt.style.use('ggplot')\n",
    "plt.rcParams[\"figure.figsize\"] = (12,7)\n",
    "\n",
    "from datetime import timedelta "
   ]
  },
  {
   "cell_type": "code",
   "execution_count": 24,
   "metadata": {},
   "outputs": [
    {
     "data": {
      "text/html": [
       "<div>\n",
       "<style scoped>\n",
       "    .dataframe tbody tr th:only-of-type {\n",
       "        vertical-align: middle;\n",
       "    }\n",
       "\n",
       "    .dataframe tbody tr th {\n",
       "        vertical-align: top;\n",
       "    }\n",
       "\n",
       "    .dataframe thead th {\n",
       "        text-align: right;\n",
       "    }\n",
       "</style>\n",
       "<table border=\"1\" class=\"dataframe\">\n",
       "  <thead>\n",
       "    <tr style=\"text-align: right;\">\n",
       "      <th></th>\n",
       "      <th>PatientId</th>\n",
       "      <th>AppointmentID</th>\n",
       "      <th>Gender</th>\n",
       "      <th>ScheduledDay</th>\n",
       "      <th>AppointmentDay</th>\n",
       "      <th>Age</th>\n",
       "      <th>Neighbourhood</th>\n",
       "      <th>Scholarship</th>\n",
       "      <th>Hipertension</th>\n",
       "      <th>Diabetes</th>\n",
       "      <th>Alcoholism</th>\n",
       "      <th>Handcap</th>\n",
       "      <th>SMS_received</th>\n",
       "      <th>No-show</th>\n",
       "    </tr>\n",
       "  </thead>\n",
       "  <tbody>\n",
       "    <tr>\n",
       "      <th>0</th>\n",
       "      <td>2.987250e+13</td>\n",
       "      <td>5642903</td>\n",
       "      <td>F</td>\n",
       "      <td>2016-04-29T18:38:08Z</td>\n",
       "      <td>2016-04-29T00:00:00Z</td>\n",
       "      <td>62</td>\n",
       "      <td>JARDIM DA PENHA</td>\n",
       "      <td>0</td>\n",
       "      <td>1</td>\n",
       "      <td>0</td>\n",
       "      <td>0</td>\n",
       "      <td>0</td>\n",
       "      <td>0</td>\n",
       "      <td>No</td>\n",
       "    </tr>\n",
       "    <tr>\n",
       "      <th>1</th>\n",
       "      <td>5.589978e+14</td>\n",
       "      <td>5642503</td>\n",
       "      <td>M</td>\n",
       "      <td>2016-04-29T16:08:27Z</td>\n",
       "      <td>2016-04-29T00:00:00Z</td>\n",
       "      <td>56</td>\n",
       "      <td>JARDIM DA PENHA</td>\n",
       "      <td>0</td>\n",
       "      <td>0</td>\n",
       "      <td>0</td>\n",
       "      <td>0</td>\n",
       "      <td>0</td>\n",
       "      <td>0</td>\n",
       "      <td>No</td>\n",
       "    </tr>\n",
       "    <tr>\n",
       "      <th>2</th>\n",
       "      <td>4.262962e+12</td>\n",
       "      <td>5642549</td>\n",
       "      <td>F</td>\n",
       "      <td>2016-04-29T16:19:04Z</td>\n",
       "      <td>2016-04-29T00:00:00Z</td>\n",
       "      <td>62</td>\n",
       "      <td>MATA DA PRAIA</td>\n",
       "      <td>0</td>\n",
       "      <td>0</td>\n",
       "      <td>0</td>\n",
       "      <td>0</td>\n",
       "      <td>0</td>\n",
       "      <td>0</td>\n",
       "      <td>No</td>\n",
       "    </tr>\n",
       "    <tr>\n",
       "      <th>3</th>\n",
       "      <td>8.679512e+11</td>\n",
       "      <td>5642828</td>\n",
       "      <td>F</td>\n",
       "      <td>2016-04-29T17:29:31Z</td>\n",
       "      <td>2016-04-29T00:00:00Z</td>\n",
       "      <td>8</td>\n",
       "      <td>PONTAL DE CAMBURI</td>\n",
       "      <td>0</td>\n",
       "      <td>0</td>\n",
       "      <td>0</td>\n",
       "      <td>0</td>\n",
       "      <td>0</td>\n",
       "      <td>0</td>\n",
       "      <td>No</td>\n",
       "    </tr>\n",
       "    <tr>\n",
       "      <th>4</th>\n",
       "      <td>8.841186e+12</td>\n",
       "      <td>5642494</td>\n",
       "      <td>F</td>\n",
       "      <td>2016-04-29T16:07:23Z</td>\n",
       "      <td>2016-04-29T00:00:00Z</td>\n",
       "      <td>56</td>\n",
       "      <td>JARDIM DA PENHA</td>\n",
       "      <td>0</td>\n",
       "      <td>1</td>\n",
       "      <td>1</td>\n",
       "      <td>0</td>\n",
       "      <td>0</td>\n",
       "      <td>0</td>\n",
       "      <td>No</td>\n",
       "    </tr>\n",
       "  </tbody>\n",
       "</table>\n",
       "</div>"
      ],
      "text/plain": [
       "      PatientId  AppointmentID Gender          ScheduledDay  \\\n",
       "0  2.987250e+13        5642903      F  2016-04-29T18:38:08Z   \n",
       "1  5.589978e+14        5642503      M  2016-04-29T16:08:27Z   \n",
       "2  4.262962e+12        5642549      F  2016-04-29T16:19:04Z   \n",
       "3  8.679512e+11        5642828      F  2016-04-29T17:29:31Z   \n",
       "4  8.841186e+12        5642494      F  2016-04-29T16:07:23Z   \n",
       "\n",
       "         AppointmentDay  Age      Neighbourhood  Scholarship  Hipertension  \\\n",
       "0  2016-04-29T00:00:00Z   62    JARDIM DA PENHA            0             1   \n",
       "1  2016-04-29T00:00:00Z   56    JARDIM DA PENHA            0             0   \n",
       "2  2016-04-29T00:00:00Z   62      MATA DA PRAIA            0             0   \n",
       "3  2016-04-29T00:00:00Z    8  PONTAL DE CAMBURI            0             0   \n",
       "4  2016-04-29T00:00:00Z   56    JARDIM DA PENHA            0             1   \n",
       "\n",
       "   Diabetes  Alcoholism  Handcap  SMS_received No-show  \n",
       "0         0           0        0             0      No  \n",
       "1         0           0        0             0      No  \n",
       "2         0           0        0             0      No  \n",
       "3         0           0        0             0      No  \n",
       "4         1           0        0             0      No  "
      ]
     },
     "execution_count": 24,
     "metadata": {},
     "output_type": "execute_result"
    }
   ],
   "source": [
    "appoint_data = pd.read_csv('KaggleV2-May-2016.csv')\n",
    "appoint_data.head()"
   ]
  },
  {
   "cell_type": "code",
   "execution_count": 25,
   "metadata": {},
   "outputs": [
    {
     "data": {
      "text/html": [
       "<div>\n",
       "<style scoped>\n",
       "    .dataframe tbody tr th:only-of-type {\n",
       "        vertical-align: middle;\n",
       "    }\n",
       "\n",
       "    .dataframe tbody tr th {\n",
       "        vertical-align: top;\n",
       "    }\n",
       "\n",
       "    .dataframe thead th {\n",
       "        text-align: right;\n",
       "    }\n",
       "</style>\n",
       "<table border=\"1\" class=\"dataframe\">\n",
       "  <thead>\n",
       "    <tr style=\"text-align: right;\">\n",
       "      <th></th>\n",
       "      <th>PatientId</th>\n",
       "      <th>AppointmentID</th>\n",
       "      <th>Age</th>\n",
       "      <th>Scholarship</th>\n",
       "      <th>Hipertension</th>\n",
       "      <th>Diabetes</th>\n",
       "      <th>Alcoholism</th>\n",
       "      <th>Handcap</th>\n",
       "      <th>SMS_received</th>\n",
       "    </tr>\n",
       "  </thead>\n",
       "  <tbody>\n",
       "    <tr>\n",
       "      <th>count</th>\n",
       "      <td>1.105270e+05</td>\n",
       "      <td>1.105270e+05</td>\n",
       "      <td>110527.000000</td>\n",
       "      <td>110527.000000</td>\n",
       "      <td>110527.000000</td>\n",
       "      <td>110527.000000</td>\n",
       "      <td>110527.000000</td>\n",
       "      <td>110527.000000</td>\n",
       "      <td>110527.000000</td>\n",
       "    </tr>\n",
       "    <tr>\n",
       "      <th>mean</th>\n",
       "      <td>1.474963e+14</td>\n",
       "      <td>5.675305e+06</td>\n",
       "      <td>37.088874</td>\n",
       "      <td>0.098266</td>\n",
       "      <td>0.197246</td>\n",
       "      <td>0.071865</td>\n",
       "      <td>0.030400</td>\n",
       "      <td>0.022248</td>\n",
       "      <td>0.321026</td>\n",
       "    </tr>\n",
       "    <tr>\n",
       "      <th>std</th>\n",
       "      <td>2.560949e+14</td>\n",
       "      <td>7.129575e+04</td>\n",
       "      <td>23.110205</td>\n",
       "      <td>0.297675</td>\n",
       "      <td>0.397921</td>\n",
       "      <td>0.258265</td>\n",
       "      <td>0.171686</td>\n",
       "      <td>0.161543</td>\n",
       "      <td>0.466873</td>\n",
       "    </tr>\n",
       "    <tr>\n",
       "      <th>min</th>\n",
       "      <td>3.921784e+04</td>\n",
       "      <td>5.030230e+06</td>\n",
       "      <td>-1.000000</td>\n",
       "      <td>0.000000</td>\n",
       "      <td>0.000000</td>\n",
       "      <td>0.000000</td>\n",
       "      <td>0.000000</td>\n",
       "      <td>0.000000</td>\n",
       "      <td>0.000000</td>\n",
       "    </tr>\n",
       "    <tr>\n",
       "      <th>25%</th>\n",
       "      <td>4.172614e+12</td>\n",
       "      <td>5.640286e+06</td>\n",
       "      <td>18.000000</td>\n",
       "      <td>0.000000</td>\n",
       "      <td>0.000000</td>\n",
       "      <td>0.000000</td>\n",
       "      <td>0.000000</td>\n",
       "      <td>0.000000</td>\n",
       "      <td>0.000000</td>\n",
       "    </tr>\n",
       "    <tr>\n",
       "      <th>50%</th>\n",
       "      <td>3.173184e+13</td>\n",
       "      <td>5.680573e+06</td>\n",
       "      <td>37.000000</td>\n",
       "      <td>0.000000</td>\n",
       "      <td>0.000000</td>\n",
       "      <td>0.000000</td>\n",
       "      <td>0.000000</td>\n",
       "      <td>0.000000</td>\n",
       "      <td>0.000000</td>\n",
       "    </tr>\n",
       "    <tr>\n",
       "      <th>75%</th>\n",
       "      <td>9.439172e+13</td>\n",
       "      <td>5.725524e+06</td>\n",
       "      <td>55.000000</td>\n",
       "      <td>0.000000</td>\n",
       "      <td>0.000000</td>\n",
       "      <td>0.000000</td>\n",
       "      <td>0.000000</td>\n",
       "      <td>0.000000</td>\n",
       "      <td>1.000000</td>\n",
       "    </tr>\n",
       "    <tr>\n",
       "      <th>max</th>\n",
       "      <td>9.999816e+14</td>\n",
       "      <td>5.790484e+06</td>\n",
       "      <td>115.000000</td>\n",
       "      <td>1.000000</td>\n",
       "      <td>1.000000</td>\n",
       "      <td>1.000000</td>\n",
       "      <td>1.000000</td>\n",
       "      <td>4.000000</td>\n",
       "      <td>1.000000</td>\n",
       "    </tr>\n",
       "  </tbody>\n",
       "</table>\n",
       "</div>"
      ],
      "text/plain": [
       "          PatientId  AppointmentID            Age    Scholarship  \\\n",
       "count  1.105270e+05   1.105270e+05  110527.000000  110527.000000   \n",
       "mean   1.474963e+14   5.675305e+06      37.088874       0.098266   \n",
       "std    2.560949e+14   7.129575e+04      23.110205       0.297675   \n",
       "min    3.921784e+04   5.030230e+06      -1.000000       0.000000   \n",
       "25%    4.172614e+12   5.640286e+06      18.000000       0.000000   \n",
       "50%    3.173184e+13   5.680573e+06      37.000000       0.000000   \n",
       "75%    9.439172e+13   5.725524e+06      55.000000       0.000000   \n",
       "max    9.999816e+14   5.790484e+06     115.000000       1.000000   \n",
       "\n",
       "        Hipertension       Diabetes     Alcoholism        Handcap  \\\n",
       "count  110527.000000  110527.000000  110527.000000  110527.000000   \n",
       "mean        0.197246       0.071865       0.030400       0.022248   \n",
       "std         0.397921       0.258265       0.171686       0.161543   \n",
       "min         0.000000       0.000000       0.000000       0.000000   \n",
       "25%         0.000000       0.000000       0.000000       0.000000   \n",
       "50%         0.000000       0.000000       0.000000       0.000000   \n",
       "75%         0.000000       0.000000       0.000000       0.000000   \n",
       "max         1.000000       1.000000       1.000000       4.000000   \n",
       "\n",
       "        SMS_received  \n",
       "count  110527.000000  \n",
       "mean        0.321026  \n",
       "std         0.466873  \n",
       "min         0.000000  \n",
       "25%         0.000000  \n",
       "50%         0.000000  \n",
       "75%         1.000000  \n",
       "max         1.000000  "
      ]
     },
     "execution_count": 25,
     "metadata": {},
     "output_type": "execute_result"
    }
   ],
   "source": [
    "appoint_data.describe()"
   ]
  },
  {
   "cell_type": "code",
   "execution_count": 26,
   "metadata": {},
   "outputs": [
    {
     "data": {
      "text/plain": [
       "PatientId         float64\n",
       "AppointmentID       int64\n",
       "Gender             object\n",
       "ScheduledDay       object\n",
       "AppointmentDay     object\n",
       "Age                 int64\n",
       "Neighbourhood      object\n",
       "Scholarship         int64\n",
       "Hipertension        int64\n",
       "Diabetes            int64\n",
       "Alcoholism          int64\n",
       "Handcap             int64\n",
       "SMS_received        int64\n",
       "No-show            object\n",
       "dtype: object"
      ]
     },
     "execution_count": 26,
     "metadata": {},
     "output_type": "execute_result"
    }
   ],
   "source": [
    "appoint_data.dtypes"
   ]
  },
  {
   "cell_type": "markdown",
   "metadata": {},
   "source": [
    "**ScheduledDay** and **AppointmentDay** have dtype of object (string) should be in datetime.\n",
    "Convert the columns in datetime format"
   ]
  },
  {
   "cell_type": "code",
   "execution_count": 27,
   "metadata": {},
   "outputs": [
    {
     "data": {
      "text/html": [
       "<div>\n",
       "<style scoped>\n",
       "    .dataframe tbody tr th:only-of-type {\n",
       "        vertical-align: middle;\n",
       "    }\n",
       "\n",
       "    .dataframe tbody tr th {\n",
       "        vertical-align: top;\n",
       "    }\n",
       "\n",
       "    .dataframe thead th {\n",
       "        text-align: right;\n",
       "    }\n",
       "</style>\n",
       "<table border=\"1\" class=\"dataframe\">\n",
       "  <thead>\n",
       "    <tr style=\"text-align: right;\">\n",
       "      <th></th>\n",
       "      <th>ScheduledDay</th>\n",
       "      <th>AppointmentDay</th>\n",
       "    </tr>\n",
       "  </thead>\n",
       "  <tbody>\n",
       "    <tr>\n",
       "      <th>0</th>\n",
       "      <td>2016-04-29T18:38:08Z</td>\n",
       "      <td>2016-04-29T00:00:00Z</td>\n",
       "    </tr>\n",
       "    <tr>\n",
       "      <th>1</th>\n",
       "      <td>2016-04-29T16:08:27Z</td>\n",
       "      <td>2016-04-29T00:00:00Z</td>\n",
       "    </tr>\n",
       "    <tr>\n",
       "      <th>2</th>\n",
       "      <td>2016-04-29T16:19:04Z</td>\n",
       "      <td>2016-04-29T00:00:00Z</td>\n",
       "    </tr>\n",
       "    <tr>\n",
       "      <th>3</th>\n",
       "      <td>2016-04-29T17:29:31Z</td>\n",
       "      <td>2016-04-29T00:00:00Z</td>\n",
       "    </tr>\n",
       "    <tr>\n",
       "      <th>4</th>\n",
       "      <td>2016-04-29T16:07:23Z</td>\n",
       "      <td>2016-04-29T00:00:00Z</td>\n",
       "    </tr>\n",
       "    <tr>\n",
       "      <th>5</th>\n",
       "      <td>2016-04-27T08:36:51Z</td>\n",
       "      <td>2016-04-29T00:00:00Z</td>\n",
       "    </tr>\n",
       "    <tr>\n",
       "      <th>6</th>\n",
       "      <td>2016-04-27T15:05:12Z</td>\n",
       "      <td>2016-04-29T00:00:00Z</td>\n",
       "    </tr>\n",
       "    <tr>\n",
       "      <th>7</th>\n",
       "      <td>2016-04-27T15:39:58Z</td>\n",
       "      <td>2016-04-29T00:00:00Z</td>\n",
       "    </tr>\n",
       "    <tr>\n",
       "      <th>8</th>\n",
       "      <td>2016-04-29T08:02:16Z</td>\n",
       "      <td>2016-04-29T00:00:00Z</td>\n",
       "    </tr>\n",
       "    <tr>\n",
       "      <th>9</th>\n",
       "      <td>2016-04-27T12:48:25Z</td>\n",
       "      <td>2016-04-29T00:00:00Z</td>\n",
       "    </tr>\n",
       "    <tr>\n",
       "      <th>10</th>\n",
       "      <td>2016-04-27T14:58:11Z</td>\n",
       "      <td>2016-04-29T00:00:00Z</td>\n",
       "    </tr>\n",
       "    <tr>\n",
       "      <th>11</th>\n",
       "      <td>2016-04-26T08:44:12Z</td>\n",
       "      <td>2016-04-29T00:00:00Z</td>\n",
       "    </tr>\n",
       "    <tr>\n",
       "      <th>12</th>\n",
       "      <td>2016-04-28T11:33:51Z</td>\n",
       "      <td>2016-04-29T00:00:00Z</td>\n",
       "    </tr>\n",
       "    <tr>\n",
       "      <th>13</th>\n",
       "      <td>2016-04-28T14:52:07Z</td>\n",
       "      <td>2016-04-29T00:00:00Z</td>\n",
       "    </tr>\n",
       "    <tr>\n",
       "      <th>14</th>\n",
       "      <td>2016-04-28T10:06:24Z</td>\n",
       "      <td>2016-04-29T00:00:00Z</td>\n",
       "    </tr>\n",
       "  </tbody>\n",
       "</table>\n",
       "</div>"
      ],
      "text/plain": [
       "            ScheduledDay        AppointmentDay\n",
       "0   2016-04-29T18:38:08Z  2016-04-29T00:00:00Z\n",
       "1   2016-04-29T16:08:27Z  2016-04-29T00:00:00Z\n",
       "2   2016-04-29T16:19:04Z  2016-04-29T00:00:00Z\n",
       "3   2016-04-29T17:29:31Z  2016-04-29T00:00:00Z\n",
       "4   2016-04-29T16:07:23Z  2016-04-29T00:00:00Z\n",
       "5   2016-04-27T08:36:51Z  2016-04-29T00:00:00Z\n",
       "6   2016-04-27T15:05:12Z  2016-04-29T00:00:00Z\n",
       "7   2016-04-27T15:39:58Z  2016-04-29T00:00:00Z\n",
       "8   2016-04-29T08:02:16Z  2016-04-29T00:00:00Z\n",
       "9   2016-04-27T12:48:25Z  2016-04-29T00:00:00Z\n",
       "10  2016-04-27T14:58:11Z  2016-04-29T00:00:00Z\n",
       "11  2016-04-26T08:44:12Z  2016-04-29T00:00:00Z\n",
       "12  2016-04-28T11:33:51Z  2016-04-29T00:00:00Z\n",
       "13  2016-04-28T14:52:07Z  2016-04-29T00:00:00Z\n",
       "14  2016-04-28T10:06:24Z  2016-04-29T00:00:00Z"
      ]
     },
     "execution_count": 27,
     "metadata": {},
     "output_type": "execute_result"
    }
   ],
   "source": [
    "#Check format of ScheduledDay and AppointmentDay\n",
    "appoint_data.head(15)[['ScheduledDay', 'AppointmentDay']]"
   ]
  },
  {
   "cell_type": "code",
   "execution_count": 28,
   "metadata": {},
   "outputs": [],
   "source": [
    "#Converting ScheduledDay and AppointmentDay column from string to datetime format\n",
    "appoint_data['ScheduledDay'] = pd.to_datetime(appoint_data['ScheduledDay'], format = '%Y-%m-%dT%H:%M:%SZ')\n",
    "appoint_data['AppointmentDay'] = pd.to_datetime(appoint_data['AppointmentDay'], format = '%Y-%m-%dT%H:%M:%SZ')"
   ]
  },
  {
   "cell_type": "markdown",
   "metadata": {},
   "source": [
    "**PatientId** and **AppointmentID** column should be string"
   ]
  },
  {
   "cell_type": "code",
   "execution_count": 29,
   "metadata": {},
   "outputs": [],
   "source": [
    "# Converting columns to type str \n",
    "appoint_data['PatientId'] = appoint_data['PatientId'].astype(str)\n",
    "appoint_data['AppointmentID'] = appoint_data['AppointmentID'].astype(str)"
   ]
  },
  {
   "cell_type": "markdown",
   "metadata": {},
   "source": [
    "# Feature Engineering\n",
    "Feature engineering was used to recode datetime features and retain information captured from previous appointments (those prior to the latest).\n",
    "\n",
    "Existing features:\n",
    "- No-show(Target)\n",
    "- PatientID : patient record ID\n",
    "- AppointmentID : Patient appointment ID\n",
    "- Gender : M/F\n",
    "- ScheduledDay : The day and time on which the appointment was scheduled\n",
    "- AppointmentDay : The day of appointment\n",
    "- Age : age of the patient\n",
    "- Neighbourhood : locality\n",
    "- Scholarship : patient bearing any govt scholarship\n",
    "- Hipertension : 1 / 0\n",
    "- Diabetes : 1 / 0\n",
    "- Alcoholism : 1 / 0\n",
    "- SMS_received : 1 / 0\n",
    "\n",
    "Engineered features:\n",
    "- prior_no_show : Number of prior no shows\n",
    "- prior_appointments : Number of prior appointments\n",
    "- appointment_monthday : day of the month of appointment\n",
    "- appointment_weekday : weekday of the appointment\n",
    "- scheduled_monthday : day of the month of scheduledDay\n",
    "- scheduled_weekday : weekday of the scheduledDay\n",
    "- scheduled_hour : hour at which the appointment id scheduled\n",
    "- day_difference : Difference between AppointmentDay and ScheduledDay\n",
    "- total_conditions : sum of Hipertension, Diabetes, Alcoholism\n"
   ]
  },
  {
   "cell_type": "code",
   "execution_count": 30,
   "metadata": {},
   "outputs": [],
   "source": [
    "# Converting No-show column values to 1/0\n",
    "appoint_data['target'] = [1 if i=='Yes' else 0 for i in appoint_data['No-show']]"
   ]
  },
  {
   "cell_type": "code",
   "execution_count": 31,
   "metadata": {},
   "outputs": [],
   "source": [
    "# prior_no_show : Number of prior no shows\n",
    "# (total no. of prior no shows) - 1\n",
    "prior_no_show_df = (appoint_data[appoint_data['target'] == 1]['PatientId'].value_counts() - 1).reset_index()\n",
    "prior_no_show_df.columns = ['PatientId', 'prior_no_show']\n",
    "\n",
    "appoint_data = appoint_data.merge(prior_no_show_df, on = 'PatientId', how = 'left')\n",
    "appoint_data['prior_no_show'] = appoint_data['prior_no_show'].fillna(0)"
   ]
  },
  {
   "cell_type": "code",
   "execution_count": 32,
   "metadata": {},
   "outputs": [],
   "source": [
    "# prior_appointment: Number of prior appointments\n",
    "# (total no. of appointments) - 1\n",
    "prior_app_df = (appoint_data['PatientId'].value_counts() - 1).reset_index()\n",
    "prior_app_df.columns = ['PatientId', 'prior_appointment']\n",
    "\n",
    "appoint_data = appoint_data.merge(prior_app_df, on = 'PatientId', how = 'left')\n",
    "appoint_data['prior_appointment'] = appoint_data['prior_appointment'].fillna(0)"
   ]
  },
  {
   "cell_type": "code",
   "execution_count": 33,
   "metadata": {},
   "outputs": [],
   "source": [
    "# appointment_monthday\n",
    "appoint_data['appointment_monthday'] = appoint_data['AppointmentDay'].dt.day\n",
    "\n",
    "# appointment_weekday\n",
    "appoint_data['appointment_weekday'] = appoint_data['AppointmentDay'].dt.weekday\n",
    "\n",
    "# scheduled_monthday\n",
    "appoint_data['scheduled_monthday'] = appoint_data['ScheduledDay'].dt.day\n",
    "\n",
    "# scheduled_weekday\n",
    "appoint_data['scheduled_weekday'] = appoint_data['ScheduledDay'].dt.weekday\n",
    "\n",
    "# scheduled_hour\n",
    "appoint_data['scheduled_hour'] = appoint_data['ScheduledDay'].dt.hour"
   ]
  },
  {
   "cell_type": "code",
   "execution_count": 34,
   "metadata": {},
   "outputs": [],
   "source": [
    "# day_difference\n",
    "add_day = lambda x: x.days + 1\n",
    "appoint_data['day_difference'] = (appoint_data['AppointmentDay'] - appoint_data['ScheduledDay'])\n",
    "appoint_data['day_difference'] = appoint_data['day_difference'].apply(add_day)"
   ]
  },
  {
   "cell_type": "code",
   "execution_count": 35,
   "metadata": {},
   "outputs": [],
   "source": [
    "# total_conditions\n",
    "appoint_data['total_conditions'] = appoint_data[['Hipertension', 'Diabetes', 'Alcoholism']].sum(axis = 1)"
   ]
  },
  {
   "cell_type": "code",
   "execution_count": 36,
   "metadata": {},
   "outputs": [],
   "source": [
    "# Keeping the latest records and removing the redundant features like 'patientId' and 'appointmentId'\n",
    "\n",
    "appoint_data.sort_values(by='AppointmentDay', ascending = True, inplace = True)\n",
    "appoint_data.drop_duplicates(subset='PatientId', keep = 'last', inplace=True)\n",
    "appoint_data.drop(['PatientId', 'AppointmentID', 'AppointmentDay', 'ScheduledDay'], axis = 1, inplace = True)"
   ]
  },
  {
   "cell_type": "code",
   "execution_count": 37,
   "metadata": {},
   "outputs": [
    {
     "data": {
      "text/plain": [
       "(62299, 20)"
      ]
     },
     "execution_count": 37,
     "metadata": {},
     "output_type": "execute_result"
    }
   ],
   "source": [
    "appoint_data.shape"
   ]
  },
  {
   "cell_type": "code",
   "execution_count": 38,
   "metadata": {},
   "outputs": [
    {
     "data": {
      "text/plain": [
       "Index(['Gender', 'Age', 'Neighbourhood', 'Scholarship', 'Hipertension',\n",
       "       'Diabetes', 'Alcoholism', 'Handcap', 'SMS_received', 'No-show',\n",
       "       'target', 'prior_no_show', 'prior_appointment', 'appointment_monthday',\n",
       "       'appointment_weekday', 'scheduled_monthday', 'scheduled_weekday',\n",
       "       'scheduled_hour', 'day_difference', 'total_conditions'],\n",
       "      dtype='object')"
      ]
     },
     "execution_count": 38,
     "metadata": {},
     "output_type": "execute_result"
    }
   ],
   "source": [
    "appoint_data.columns"
   ]
  },
  {
   "cell_type": "markdown",
   "metadata": {},
   "source": [
    "# Feature Selection\n",
    "\n",
    "For feature selection, using **Monotonic Binning** and **Information Value**, which ranks and scores features based on how well they predict target\n",
    "\n",
    "Python package : xverse (https://pypi.org/project/xverse/)\n",
    "\n",
    "Monotonic Binning, WOE, IV : https://www.youtube.com/watch?v=XVjq45YSjsY"
   ]
  },
  {
   "cell_type": "code",
   "execution_count": 39,
   "metadata": {},
   "outputs": [
    {
     "name": "stdout",
     "output_type": "stream",
     "text": [
      "Requirement already satisfied: xverse in c:\\users\\eehvmvi\\appdata\\local\\programs\\python\\python37\\lib\\site-packages (1.0.5)\n",
      "Requirement already satisfied: pandas>=0.21.1 in c:\\users\\eehvmvi\\appdata\\local\\programs\\python\\python37\\lib\\site-packages (from xverse) (0.25.3)\n",
      "Requirement already satisfied: scikit-learn>=0.19.0 in c:\\users\\eehvmvi\\appdata\\local\\programs\\python\\python37\\lib\\site-packages (from xverse) (0.22.2.post1)\n",
      "Requirement already satisfied: matplotlib>=3.0.3 in c:\\users\\eehvmvi\\appdata\\local\\programs\\python\\python37\\lib\\site-packages (from xverse) (3.2.1)\n",
      "Requirement already satisfied: statsmodels>=0.6.1 in c:\\users\\eehvmvi\\appdata\\local\\programs\\python\\python37\\lib\\site-packages (from xverse) (0.11.1)\n",
      "Requirement already satisfied: numpy>=1.11.3 in c:\\users\\eehvmvi\\appdata\\local\\programs\\python\\python37\\lib\\site-packages (from xverse) (1.17.4)\n",
      "Requirement already satisfied: scipy>=0.19.0 in c:\\users\\eehvmvi\\appdata\\local\\programs\\python\\python37\\lib\\site-packages (from xverse) (1.4.1)\n",
      "Requirement already satisfied: pytz>=2017.2 in c:\\users\\eehvmvi\\appdata\\local\\programs\\python\\python37\\lib\\site-packages (from pandas>=0.21.1->xverse) (2019.3)\n",
      "Requirement already satisfied: python-dateutil>=2.6.1 in c:\\users\\eehvmvi\\appdata\\local\\programs\\python\\python37\\lib\\site-packages (from pandas>=0.21.1->xverse) (2.8.1)\n",
      "Requirement already satisfied: joblib>=0.11 in c:\\users\\eehvmvi\\appdata\\local\\programs\\python\\python37\\lib\\site-packages (from scikit-learn>=0.19.0->xverse) (0.14.1)\n",
      "Requirement already satisfied: cycler>=0.10 in c:\\users\\eehvmvi\\appdata\\local\\programs\\python\\python37\\lib\\site-packages (from matplotlib>=3.0.3->xverse) (0.10.0)\n",
      "Requirement already satisfied: pyparsing!=2.0.4,!=2.1.2,!=2.1.6,>=2.0.1 in c:\\users\\eehvmvi\\appdata\\local\\programs\\python\\python37\\lib\\site-packages (from matplotlib>=3.0.3->xverse) (2.4.7)\n",
      "Requirement already satisfied: kiwisolver>=1.0.1 in c:\\users\\eehvmvi\\appdata\\local\\programs\\python\\python37\\lib\\site-packages (from matplotlib>=3.0.3->xverse) (1.2.0)\n",
      "Requirement already satisfied: patsy>=0.5 in c:\\users\\eehvmvi\\appdata\\local\\programs\\python\\python37\\lib\\site-packages (from statsmodels>=0.6.1->xverse) (0.5.1)\n",
      "Requirement already satisfied: six>=1.5 in c:\\users\\eehvmvi\\appdata\\local\\programs\\python\\python37\\lib\\site-packages (from python-dateutil>=2.6.1->pandas>=0.21.1->xverse) (1.13.0)\n"
     ]
    },
    {
     "name": "stderr",
     "output_type": "stream",
     "text": [
      "WARNING: You are using pip version 20.0.2; however, version 20.1 is available.\n",
      "You should consider upgrading via the 'c:\\users\\eehvmvi\\appdata\\local\\programs\\python\\python37\\python.exe -m pip install --upgrade pip' command.\n"
     ]
    }
   ],
   "source": [
    "# installing xverse package\n",
    "!pip install xverse"
   ]
  },
  {
   "cell_type": "code",
   "execution_count": 40,
   "metadata": {},
   "outputs": [
    {
     "data": {
      "text/plain": [
       "MonotonicBinning(cardinality_cutoff=5, custom_binning=None, feature_names='all',\n",
       "                 force_bins=4, max_bins=20, prefix=None)"
      ]
     },
     "execution_count": 40,
     "metadata": {},
     "output_type": "execute_result"
    }
   ],
   "source": [
    "from xverse.transformer import MonotonicBinning\n",
    "\n",
    "X = appoint_data.drop(['No-show', 'target'], axis = 1)\n",
    "y = appoint_data['target']\n",
    "\n",
    "# instantiate\n",
    "clf = MonotonicBinning()\n",
    "\n",
    "# fit\n",
    "clf.fit(X,y)"
   ]
  },
  {
   "cell_type": "code",
   "execution_count": 41,
   "metadata": {},
   "outputs": [
    {
     "data": {
      "text/plain": [
       "{'Age': array([ -1.,  23.,  50., 115.]),\n",
       " 'Scholarship': array([0., 1.]),\n",
       " 'Hipertension': array([0., 1.]),\n",
       " 'Diabetes': array([0., 1.]),\n",
       " 'Alcoholism': array([0., 1.]),\n",
       " 'Handcap': array([0., 1., 2., 3., 4.]),\n",
       " 'SMS_received': array([0., 1.]),\n",
       " 'prior_no_show': array([ 0.,  1., 17.]),\n",
       " 'prior_appointment': array([ 0.,  1., 87.]),\n",
       " 'appointment_monthday': array([ 1.,  6., 16., 31.]),\n",
       " 'appointment_weekday': array([0., 1., 2., 5.]),\n",
       " 'scheduled_monthday': array([ 1.,  8., 19., 31.]),\n",
       " 'scheduled_weekday': array([0., 1., 2., 5.]),\n",
       " 'scheduled_hour': array([ 6.,  8., 12., 21.]),\n",
       " 'day_difference': array([  0.,   1.,  12., 179.]),\n",
       " 'total_conditions': array([0., 1., 2., 3.])}"
      ]
     },
     "execution_count": 41,
     "metadata": {},
     "output_type": "execute_result"
    }
   ],
   "source": [
    "clf.bins  "
   ]
  },
  {
   "cell_type": "code",
   "execution_count": 42,
   "metadata": {},
   "outputs": [
    {
     "name": "stderr",
     "output_type": "stream",
     "text": [
      "C:\\Users\\eehvmvi\\AppData\\Local\\Continuum\\anaconda3\\lib\\site-packages\\pandas\\core\\series.py:856: RuntimeWarning: divide by zero encountered in log\n",
      "  result = getattr(ufunc, method)(*inputs, **kwargs)\n"
     ]
    },
    {
     "data": {
      "text/plain": [
       "WOE(exclude_features=None, feature_names='all', mono_cardinality_cutoff=5,\n",
       "    mono_custom_binning={'Age': array([ -1.,  23.,  50., 115.]),\n",
       "                         'Alcoholism': array([0., 1.]),\n",
       "                         'Diabetes': array([0., 1.]),\n",
       "                         'Handcap': array([0., 1., 2., 3., 4.]),\n",
       "                         'Hipertension': array([0., 1.]),\n",
       "                         'SMS_received': array([0., 1.]),\n",
       "                         'Scholarship': array([0., 1.]),\n",
       "                         'appointment_monthday': array([ 1.,  6., 16., 31.]),\n",
       "                         'a...\n",
       "                                     Interval(19.0, 31.0, closed='right'): 0.1389587073862382},\n",
       "              'scheduled_weekday': {Interval(-0.001, 1.0, closed='right'): 0.0030882818369024397,\n",
       "                                    Interval(1.0, 2.0, closed='right'): -0.021705275318818523,\n",
       "                                    Interval(2.0, 5.0, closed='right'): 0.010419297611630872},\n",
       "              'total_conditions': {0: 0.05415345033706663,\n",
       "                                   1: -0.1973268370733331,\n",
       "                                   2: -0.22363073768084668,\n",
       "                                   3: -0.03286631217599678}},\n",
       "    woe_prefix=None)"
      ]
     },
     "execution_count": 42,
     "metadata": {},
     "output_type": "execute_result"
    }
   ],
   "source": [
    "from xverse.transformer import WOE\n",
    "\n",
    "# instantiate\n",
    "clf = WOE()\n",
    "\n",
    "# fit\n",
    "clf.fit(X,y)"
   ]
  },
  {
   "cell_type": "code",
   "execution_count": 43,
   "metadata": {},
   "outputs": [
    {
     "data": {
      "text/html": [
       "<div>\n",
       "<style scoped>\n",
       "    .dataframe tbody tr th:only-of-type {\n",
       "        vertical-align: middle;\n",
       "    }\n",
       "\n",
       "    .dataframe tbody tr th {\n",
       "        vertical-align: top;\n",
       "    }\n",
       "\n",
       "    .dataframe thead th {\n",
       "        text-align: right;\n",
       "    }\n",
       "</style>\n",
       "<table border=\"1\" class=\"dataframe\">\n",
       "  <thead>\n",
       "    <tr style=\"text-align: right;\">\n",
       "      <th></th>\n",
       "      <th>Variable_Name</th>\n",
       "      <th>Category</th>\n",
       "      <th>Count</th>\n",
       "      <th>Event</th>\n",
       "      <th>Non_Event</th>\n",
       "      <th>Event_Rate</th>\n",
       "      <th>Non_Event_Rate</th>\n",
       "      <th>Event_Distribution</th>\n",
       "      <th>Non_Event_Distribution</th>\n",
       "      <th>WOE</th>\n",
       "      <th>Information_Value</th>\n",
       "    </tr>\n",
       "  </thead>\n",
       "  <tbody>\n",
       "    <tr>\n",
       "      <th>0</th>\n",
       "      <td>Age</td>\n",
       "      <td>(-1.001, 23.0]</td>\n",
       "      <td>21123</td>\n",
       "      <td>4689</td>\n",
       "      <td>16434</td>\n",
       "      <td>0.221986</td>\n",
       "      <td>0.778014</td>\n",
       "      <td>0.375000</td>\n",
       "      <td>0.330033</td>\n",
       "      <td>0.127733</td>\n",
       "      <td>0.043925</td>\n",
       "    </tr>\n",
       "    <tr>\n",
       "      <th>1</th>\n",
       "      <td>Age</td>\n",
       "      <td>(23.0, 50.0]</td>\n",
       "      <td>21164</td>\n",
       "      <td>4748</td>\n",
       "      <td>16416</td>\n",
       "      <td>0.224343</td>\n",
       "      <td>0.775657</td>\n",
       "      <td>0.379718</td>\n",
       "      <td>0.329672</td>\n",
       "      <td>0.141333</td>\n",
       "      <td>0.043925</td>\n",
       "    </tr>\n",
       "    <tr>\n",
       "      <th>2</th>\n",
       "      <td>Age</td>\n",
       "      <td>(50.0, 115.0]</td>\n",
       "      <td>20012</td>\n",
       "      <td>3067</td>\n",
       "      <td>16945</td>\n",
       "      <td>0.153258</td>\n",
       "      <td>0.846742</td>\n",
       "      <td>0.245282</td>\n",
       "      <td>0.340295</td>\n",
       "      <td>-0.327407</td>\n",
       "      <td>0.043925</td>\n",
       "    </tr>\n",
       "    <tr>\n",
       "      <th>3</th>\n",
       "      <td>Alcoholism</td>\n",
       "      <td>0</td>\n",
       "      <td>60793</td>\n",
       "      <td>12132</td>\n",
       "      <td>48661</td>\n",
       "      <td>0.199562</td>\n",
       "      <td>0.800438</td>\n",
       "      <td>0.970250</td>\n",
       "      <td>0.977227</td>\n",
       "      <td>-0.007165</td>\n",
       "      <td>0.001915</td>\n",
       "    </tr>\n",
       "    <tr>\n",
       "      <th>4</th>\n",
       "      <td>Alcoholism</td>\n",
       "      <td>1</td>\n",
       "      <td>1506</td>\n",
       "      <td>372</td>\n",
       "      <td>1134</td>\n",
       "      <td>0.247012</td>\n",
       "      <td>0.752988</td>\n",
       "      <td>0.029750</td>\n",
       "      <td>0.022773</td>\n",
       "      <td>0.267253</td>\n",
       "      <td>0.001915</td>\n",
       "    </tr>\n",
       "    <tr>\n",
       "      <th>...</th>\n",
       "      <td>...</td>\n",
       "      <td>...</td>\n",
       "      <td>...</td>\n",
       "      <td>...</td>\n",
       "      <td>...</td>\n",
       "      <td>...</td>\n",
       "      <td>...</td>\n",
       "      <td>...</td>\n",
       "      <td>...</td>\n",
       "      <td>...</td>\n",
       "      <td>...</td>\n",
       "    </tr>\n",
       "    <tr>\n",
       "      <th>122</th>\n",
       "      <td>scheduled_weekday</td>\n",
       "      <td>(2.0, 5.0]</td>\n",
       "      <td>20367</td>\n",
       "      <td>4122</td>\n",
       "      <td>16245</td>\n",
       "      <td>0.202386</td>\n",
       "      <td>0.797614</td>\n",
       "      <td>0.329655</td>\n",
       "      <td>0.326238</td>\n",
       "      <td>0.010419</td>\n",
       "      <td>0.000144</td>\n",
       "    </tr>\n",
       "    <tr>\n",
       "      <th>123</th>\n",
       "      <td>total_conditions</td>\n",
       "      <td>0</td>\n",
       "      <td>48354</td>\n",
       "      <td>10132</td>\n",
       "      <td>38222</td>\n",
       "      <td>0.209538</td>\n",
       "      <td>0.790462</td>\n",
       "      <td>0.810301</td>\n",
       "      <td>0.767587</td>\n",
       "      <td>0.054153</td>\n",
       "      <td>0.011079</td>\n",
       "    </tr>\n",
       "    <tr>\n",
       "      <th>124</th>\n",
       "      <td>total_conditions</td>\n",
       "      <td>1</td>\n",
       "      <td>9859</td>\n",
       "      <td>1685</td>\n",
       "      <td>8174</td>\n",
       "      <td>0.170910</td>\n",
       "      <td>0.829090</td>\n",
       "      <td>0.134757</td>\n",
       "      <td>0.164153</td>\n",
       "      <td>-0.197327</td>\n",
       "      <td>0.011079</td>\n",
       "    </tr>\n",
       "    <tr>\n",
       "      <th>125</th>\n",
       "      <td>total_conditions</td>\n",
       "      <td>2</td>\n",
       "      <td>3953</td>\n",
       "      <td>661</td>\n",
       "      <td>3292</td>\n",
       "      <td>0.167215</td>\n",
       "      <td>0.832785</td>\n",
       "      <td>0.052863</td>\n",
       "      <td>0.066111</td>\n",
       "      <td>-0.223631</td>\n",
       "      <td>0.011079</td>\n",
       "    </tr>\n",
       "    <tr>\n",
       "      <th>126</th>\n",
       "      <td>total_conditions</td>\n",
       "      <td>3</td>\n",
       "      <td>133</td>\n",
       "      <td>26</td>\n",
       "      <td>107</td>\n",
       "      <td>0.195489</td>\n",
       "      <td>0.804511</td>\n",
       "      <td>0.002079</td>\n",
       "      <td>0.002149</td>\n",
       "      <td>-0.032866</td>\n",
       "      <td>0.011079</td>\n",
       "    </tr>\n",
       "  </tbody>\n",
       "</table>\n",
       "<p>127 rows × 11 columns</p>\n",
       "</div>"
      ],
      "text/plain": [
       "         Variable_Name        Category  Count  Event  Non_Event  Event_Rate  \\\n",
       "0                  Age  (-1.001, 23.0]  21123   4689      16434    0.221986   \n",
       "1                  Age    (23.0, 50.0]  21164   4748      16416    0.224343   \n",
       "2                  Age   (50.0, 115.0]  20012   3067      16945    0.153258   \n",
       "3           Alcoholism               0  60793  12132      48661    0.199562   \n",
       "4           Alcoholism               1   1506    372       1134    0.247012   \n",
       "..                 ...             ...    ...    ...        ...         ...   \n",
       "122  scheduled_weekday      (2.0, 5.0]  20367   4122      16245    0.202386   \n",
       "123   total_conditions               0  48354  10132      38222    0.209538   \n",
       "124   total_conditions               1   9859   1685       8174    0.170910   \n",
       "125   total_conditions               2   3953    661       3292    0.167215   \n",
       "126   total_conditions               3    133     26        107    0.195489   \n",
       "\n",
       "     Non_Event_Rate  Event_Distribution  Non_Event_Distribution       WOE  \\\n",
       "0          0.778014            0.375000                0.330033  0.127733   \n",
       "1          0.775657            0.379718                0.329672  0.141333   \n",
       "2          0.846742            0.245282                0.340295 -0.327407   \n",
       "3          0.800438            0.970250                0.977227 -0.007165   \n",
       "4          0.752988            0.029750                0.022773  0.267253   \n",
       "..              ...                 ...                     ...       ...   \n",
       "122        0.797614            0.329655                0.326238  0.010419   \n",
       "123        0.790462            0.810301                0.767587  0.054153   \n",
       "124        0.829090            0.134757                0.164153 -0.197327   \n",
       "125        0.832785            0.052863                0.066111 -0.223631   \n",
       "126        0.804511            0.002079                0.002149 -0.032866   \n",
       "\n",
       "     Information_Value  \n",
       "0             0.043925  \n",
       "1             0.043925  \n",
       "2             0.043925  \n",
       "3             0.001915  \n",
       "4             0.001915  \n",
       "..                 ...  \n",
       "122           0.000144  \n",
       "123           0.011079  \n",
       "124           0.011079  \n",
       "125           0.011079  \n",
       "126           0.011079  \n",
       "\n",
       "[127 rows x 11 columns]"
      ]
     },
     "execution_count": 43,
     "metadata": {},
     "output_type": "execute_result"
    }
   ],
   "source": [
    "# WOE : Weight Of Evidence Dataset\n",
    "clf.woe_df"
   ]
  },
  {
   "cell_type": "code",
   "execution_count": 44,
   "metadata": {},
   "outputs": [
    {
     "data": {
      "text/html": [
       "<div>\n",
       "<style scoped>\n",
       "    .dataframe tbody tr th:only-of-type {\n",
       "        vertical-align: middle;\n",
       "    }\n",
       "\n",
       "    .dataframe tbody tr th {\n",
       "        vertical-align: top;\n",
       "    }\n",
       "\n",
       "    .dataframe thead th {\n",
       "        text-align: right;\n",
       "    }\n",
       "</style>\n",
       "<table border=\"1\" class=\"dataframe\">\n",
       "  <thead>\n",
       "    <tr style=\"text-align: right;\">\n",
       "      <th></th>\n",
       "      <th>Variable_Name</th>\n",
       "      <th>Information_Value</th>\n",
       "    </tr>\n",
       "  </thead>\n",
       "  <tbody>\n",
       "    <tr>\n",
       "      <th>11</th>\n",
       "      <td>day_difference</td>\n",
       "      <td>0.717492</td>\n",
       "    </tr>\n",
       "    <tr>\n",
       "      <th>7</th>\n",
       "      <td>SMS_received</td>\n",
       "      <td>0.102121</td>\n",
       "    </tr>\n",
       "    <tr>\n",
       "      <th>13</th>\n",
       "      <td>prior_no_show</td>\n",
       "      <td>0.089975</td>\n",
       "    </tr>\n",
       "    <tr>\n",
       "      <th>0</th>\n",
       "      <td>Age</td>\n",
       "      <td>0.043925</td>\n",
       "    </tr>\n",
       "    <tr>\n",
       "      <th>6</th>\n",
       "      <td>Neighbourhood</td>\n",
       "      <td>0.037479</td>\n",
       "    </tr>\n",
       "    <tr>\n",
       "      <th>14</th>\n",
       "      <td>scheduled_hour</td>\n",
       "      <td>0.034043</td>\n",
       "    </tr>\n",
       "    <tr>\n",
       "      <th>15</th>\n",
       "      <td>scheduled_monthday</td>\n",
       "      <td>0.027676</td>\n",
       "    </tr>\n",
       "    <tr>\n",
       "      <th>5</th>\n",
       "      <td>Hipertension</td>\n",
       "      <td>0.016108</td>\n",
       "    </tr>\n",
       "    <tr>\n",
       "      <th>17</th>\n",
       "      <td>total_conditions</td>\n",
       "      <td>0.011079</td>\n",
       "    </tr>\n",
       "    <tr>\n",
       "      <th>12</th>\n",
       "      <td>prior_appointment</td>\n",
       "      <td>0.006060</td>\n",
       "    </tr>\n",
       "    <tr>\n",
       "      <th>8</th>\n",
       "      <td>Scholarship</td>\n",
       "      <td>0.004834</td>\n",
       "    </tr>\n",
       "    <tr>\n",
       "      <th>2</th>\n",
       "      <td>Diabetes</td>\n",
       "      <td>0.003273</td>\n",
       "    </tr>\n",
       "    <tr>\n",
       "      <th>1</th>\n",
       "      <td>Alcoholism</td>\n",
       "      <td>0.001915</td>\n",
       "    </tr>\n",
       "    <tr>\n",
       "      <th>10</th>\n",
       "      <td>appointment_weekday</td>\n",
       "      <td>0.001628</td>\n",
       "    </tr>\n",
       "    <tr>\n",
       "      <th>4</th>\n",
       "      <td>Handcap</td>\n",
       "      <td>0.001506</td>\n",
       "    </tr>\n",
       "    <tr>\n",
       "      <th>9</th>\n",
       "      <td>appointment_monthday</td>\n",
       "      <td>0.000288</td>\n",
       "    </tr>\n",
       "    <tr>\n",
       "      <th>16</th>\n",
       "      <td>scheduled_weekday</td>\n",
       "      <td>0.000144</td>\n",
       "    </tr>\n",
       "    <tr>\n",
       "      <th>3</th>\n",
       "      <td>Gender</td>\n",
       "      <td>0.000026</td>\n",
       "    </tr>\n",
       "  </tbody>\n",
       "</table>\n",
       "</div>"
      ],
      "text/plain": [
       "           Variable_Name  Information_Value\n",
       "11        day_difference           0.717492\n",
       "7           SMS_received           0.102121\n",
       "13         prior_no_show           0.089975\n",
       "0                    Age           0.043925\n",
       "6          Neighbourhood           0.037479\n",
       "14        scheduled_hour           0.034043\n",
       "15    scheduled_monthday           0.027676\n",
       "5           Hipertension           0.016108\n",
       "17      total_conditions           0.011079\n",
       "12     prior_appointment           0.006060\n",
       "8            Scholarship           0.004834\n",
       "2               Diabetes           0.003273\n",
       "1             Alcoholism           0.001915\n",
       "10   appointment_weekday           0.001628\n",
       "4                Handcap           0.001506\n",
       "9   appointment_monthday           0.000288\n",
       "16     scheduled_weekday           0.000144\n",
       "3                 Gender           0.000026"
      ]
     },
     "execution_count": 44,
     "metadata": {},
     "output_type": "execute_result"
    }
   ],
   "source": [
    "# IV : Information Value dataset\n",
    "clf.iv_df.sort_values(by='Information_Value', ascending=False)"
   ]
  },
  {
   "cell_type": "markdown",
   "metadata": {},
   "source": [
    "   # Handy rule for Information Value\n",
    "\n",
    "    +-------------------+-----------------------------+\n",
    "    | Information Value | Variable Predictiveness     |\n",
    "    +-------------------+-----------------------------+\n",
    "    | Less than 0.02    | Not useful for prediction   |\n",
    "    +-------------------+-----------------------------+\n",
    "    | 0.02 to 0.1       | Weak predictive Power       |\n",
    "    +-------------------+-----------------------------+\n",
    "    | 0.1 to 0.3        | Medium predictive Power     |\n",
    "    +-------------------+-----------------------------+\n",
    "    | 0.3 to 0.5        | Strong predictive Power     |\n",
    "    +-------------------+-----------------------------+\n",
    "    | >0.5              | Suspicious Predictive Power |\n",
    "    +-------------------+-----------------------------+\n"
   ]
  },
  {
   "cell_type": "code",
   "execution_count": 45,
   "metadata": {},
   "outputs": [
    {
     "data": {
      "text/html": [
       "<div>\n",
       "<style scoped>\n",
       "    .dataframe tbody tr th:only-of-type {\n",
       "        vertical-align: middle;\n",
       "    }\n",
       "\n",
       "    .dataframe tbody tr th {\n",
       "        vertical-align: top;\n",
       "    }\n",
       "\n",
       "    .dataframe thead th {\n",
       "        text-align: right;\n",
       "    }\n",
       "</style>\n",
       "<table border=\"1\" class=\"dataframe\">\n",
       "  <thead>\n",
       "    <tr style=\"text-align: right;\">\n",
       "      <th></th>\n",
       "      <th>Variable_Name</th>\n",
       "      <th>Information_Value</th>\n",
       "    </tr>\n",
       "  </thead>\n",
       "  <tbody>\n",
       "    <tr>\n",
       "      <th>11</th>\n",
       "      <td>day_difference</td>\n",
       "      <td>0.717492</td>\n",
       "    </tr>\n",
       "    <tr>\n",
       "      <th>7</th>\n",
       "      <td>SMS_received</td>\n",
       "      <td>0.102121</td>\n",
       "    </tr>\n",
       "    <tr>\n",
       "      <th>13</th>\n",
       "      <td>prior_no_show</td>\n",
       "      <td>0.089975</td>\n",
       "    </tr>\n",
       "    <tr>\n",
       "      <th>0</th>\n",
       "      <td>Age</td>\n",
       "      <td>0.043925</td>\n",
       "    </tr>\n",
       "    <tr>\n",
       "      <th>6</th>\n",
       "      <td>Neighbourhood</td>\n",
       "      <td>0.037479</td>\n",
       "    </tr>\n",
       "    <tr>\n",
       "      <th>14</th>\n",
       "      <td>scheduled_hour</td>\n",
       "      <td>0.034043</td>\n",
       "    </tr>\n",
       "    <tr>\n",
       "      <th>15</th>\n",
       "      <td>scheduled_monthday</td>\n",
       "      <td>0.027676</td>\n",
       "    </tr>\n",
       "  </tbody>\n",
       "</table>\n",
       "</div>"
      ],
      "text/plain": [
       "         Variable_Name  Information_Value\n",
       "11      day_difference           0.717492\n",
       "7         SMS_received           0.102121\n",
       "13       prior_no_show           0.089975\n",
       "0                  Age           0.043925\n",
       "6        Neighbourhood           0.037479\n",
       "14      scheduled_hour           0.034043\n",
       "15  scheduled_monthday           0.027676"
      ]
     },
     "execution_count": 45,
     "metadata": {},
     "output_type": "execute_result"
    }
   ],
   "source": [
    "clf.iv_df[clf.iv_df['Information_Value'] >= 0.02].sort_values(by = 'Information_Value', ascending  = False)"
   ]
  },
  {
   "cell_type": "code",
   "execution_count": 46,
   "metadata": {},
   "outputs": [
    {
     "data": {
      "text/plain": [
       "No     0.799291\n",
       "Yes    0.200709\n",
       "Name: No-show, dtype: float64"
      ]
     },
     "execution_count": 46,
     "metadata": {},
     "output_type": "execute_result"
    }
   ],
   "source": [
    "appoint_data['No-show'].value_counts(normalize = True)"
   ]
  },
  {
   "cell_type": "markdown",
   "metadata": {},
   "source": [
    "# Selected Features\n",
    "\n",
    "    - day_difference: numerical\n",
    "    - SMS_received: Categorical (0/1)\n",
    "    - prior_no_show: numerical\n",
    "    - Age: numerical\n",
    "    - Neighbourhood: Categorical\n",
    "    - scheduled_hour: numerical\n",
    "    - scheduled_monthday: numerical"
   ]
  },
  {
   "cell_type": "code",
   "execution_count": 51,
   "metadata": {},
   "outputs": [],
   "source": [
    "selected_features = ['day_difference', 'SMS_received', 'prior_no_show', 'Age', 'Neighbourhood', 'scheduled_hour', 'scheduled_monthday']\n",
    "X = appoint_data[selected_features]\n",
    "\n",
    "# dummies of 'Neighbourhood' feature\n",
    "neighbourhood_dummies = pd.get_dummies(X['Neighbourhood'])\n",
    "X.drop('Neighbourhood', axis = 1, inplace = True)\n",
    "X = pd.concat([X, neighbourhood_dummies], axis = 1)\n",
    "\n",
    "y = appoint_data['target']"
   ]
  },
  {
   "cell_type": "code",
   "execution_count": 118,
   "metadata": {},
   "outputs": [],
   "source": [
    "# importing train_test_split and LogisticRegression\n",
    "from sklearn.model_selection import train_test_split\n",
    "from sklearn.linear_model import LogisticRegression\n",
    "from sklearn.metrics import f1_score, precision_score, log_loss, recall_score, roc_curve, roc_auc_score, \\\n",
    "accuracy_score, confusion_matrix, auc"
   ]
  },
  {
   "cell_type": "code",
   "execution_count": 75,
   "metadata": {},
   "outputs": [
    {
     "name": "stderr",
     "output_type": "stream",
     "text": [
      "C:\\Users\\eehvmvi\\AppData\\Local\\Continuum\\anaconda3\\lib\\site-packages\\sklearn\\linear_model\\_logistic.py:940: ConvergenceWarning: lbfgs failed to converge (status=1):\n",
      "STOP: TOTAL NO. of ITERATIONS REACHED LIMIT.\n",
      "\n",
      "Increase the number of iterations (max_iter) or scale the data as shown in:\n",
      "    https://scikit-learn.org/stable/modules/preprocessing.html\n",
      "Please also refer to the documentation for alternative solver options:\n",
      "    https://scikit-learn.org/stable/modules/linear_model.html#logistic-regression\n",
      "  extra_warning_msg=_LOGISTIC_SOLVER_CONVERGENCE_MSG)\n"
     ]
    }
   ],
   "source": [
    "# Splitting the data into training and testing sets\n",
    "X_train, X_test, y_train, y_test = train_test_split(X, y, test_size=0.3, random_state=42)\n",
    "\n",
    "# instantiate the model\n",
    "log_reg = LogisticRegression(random_state=42)\n",
    "\n",
    "# fit\n",
    "log_reg.fit(X_train,y_train)\n",
    "\n",
    "# predict\n",
    "y_pred = log_reg.predict(X_test)\n",
    "y_pred_prob = log_reg.predict_proba(X_test)[:,1]"
   ]
  },
  {
   "cell_type": "markdown",
   "metadata": {},
   "source": [
    "# Scoring\n",
    "\n",
    "- Confusion Matrix\n",
    "- Accuracy\n",
    "- Precision\n",
    "- Recall\n",
    "- F1 Score"
   ]
  },
  {
   "cell_type": "markdown",
   "metadata": {},
   "source": [
    "**Confusion Matrix**"
   ]
  },
  {
   "cell_type": "code",
   "execution_count": 108,
   "metadata": {},
   "outputs": [
    {
     "data": {
      "text/plain": [
       "array([[  484,  3207],\n",
       "       [  233, 14766]], dtype=int64)"
      ]
     },
     "execution_count": 108,
     "metadata": {},
     "output_type": "execute_result"
    }
   ],
   "source": [
    "tn, fp, fn, tp = confusion_matrix(y_true=y_test, y_pred=y_pred).ravel()\n",
    "confusion_matrix(y_true=y_test, y_pred=y_pred, labels = [1, 0])"
   ]
  },
  {
   "cell_type": "code",
   "execution_count": 106,
   "metadata": {},
   "outputs": [
    {
     "name": "stdout",
     "output_type": "stream",
     "text": [
      "True Positives  : 484\n",
      "False Positives : 233\n",
      "False Negatives : 3207\n",
      "True Negatives  : 14766\n"
     ]
    }
   ],
   "source": [
    "print('True Positives  : {}'.format(tp))\n",
    "print('False Positives : {}'.format(fp))\n",
    "print('False Negatives : {}'.format(fn))\n",
    "print('True Negatives  : {}'.format(tn))"
   ]
  },
  {
   "cell_type": "markdown",
   "metadata": {},
   "source": [
    "**Accuracy**\n",
    "\n",
    "    Accuracy = (tp+tn) / (tp+tn+fp+fn)"
   ]
  },
  {
   "cell_type": "code",
   "execution_count": 92,
   "metadata": {},
   "outputs": [
    {
     "name": "stdout",
     "output_type": "stream",
     "text": [
      "Accuracy : 0.82\n"
     ]
    }
   ],
   "source": [
    "accuracy = accuracy_score(y_pred=y_pred, y_true=y_test)\n",
    "accuracy = round(accuracy,2)\n",
    "print('Accuracy : {}'.format(accuracy))"
   ]
  },
  {
   "cell_type": "markdown",
   "metadata": {},
   "source": [
    "**Precision**\n",
    "    \n",
    "    precision = tp / (tp+fp)"
   ]
  },
  {
   "cell_type": "code",
   "execution_count": 101,
   "metadata": {},
   "outputs": [
    {
     "name": "stdout",
     "output_type": "stream",
     "text": [
      "Precision : 0.68\n"
     ]
    }
   ],
   "source": [
    "precision = precision_score(y_pred=y_pred, y_true=y_test)\n",
    "precision = round(precision,2)\n",
    "print('Precision : {}'.format(precision))"
   ]
  },
  {
   "cell_type": "markdown",
   "metadata": {},
   "source": [
    "**Recall**\n",
    "\n",
    "    recall = tp / (tp+fn)"
   ]
  },
  {
   "cell_type": "code",
   "execution_count": 109,
   "metadata": {},
   "outputs": [
    {
     "name": "stdout",
     "output_type": "stream",
     "text": [
      "Recall : 0.13\n"
     ]
    }
   ],
   "source": [
    "recall = recall_score(y_pred=y_pred, y_true=y_test)\n",
    "recall = round(recall, 2)\n",
    "print('Recall : {}'.format(recall))"
   ]
  },
  {
   "cell_type": "markdown",
   "metadata": {},
   "source": [
    "**F1 Score**\n",
    "\n",
    "    f1_score = 2 * precision * recall / (precision + recall)"
   ]
  },
  {
   "cell_type": "code",
   "execution_count": 113,
   "metadata": {},
   "outputs": [
    {
     "name": "stdout",
     "output_type": "stream",
     "text": [
      "F1 Score : 0.22\n"
     ]
    }
   ],
   "source": [
    "f1 = f1_score(y_pred=y_pred, y_true=y_test)\n",
    "f1 = round(f1, 2)\n",
    "print('F1 Score : {}'.format(f1))"
   ]
  },
  {
   "cell_type": "code",
   "execution_count": 131,
   "metadata": {},
   "outputs": [
    {
     "name": "stdout",
     "output_type": "stream",
     "text": [
      "accuracy  : 0.82\n",
      "precision : 0.68\n",
      "recall    : 0.13\n",
      "f1 score  : 0.22\n"
     ]
    }
   ],
   "source": [
    "print('accuracy  : {}'.format(round(accuracy,2)))\n",
    "print('precision : {}'.format(round(precision,2)))\n",
    "print('recall    : {}'.format(round(recall,2)))\n",
    "print('f1 score  : {}'.format(round(f1,2)))"
   ]
  },
  {
   "cell_type": "code",
   "execution_count": 126,
   "metadata": {},
   "outputs": [
    {
     "name": "stdout",
     "output_type": "stream",
     "text": [
      "True Positive Rate  : [0.00000000e+00 2.70929287e-04 2.98022216e-03 ... 9.99729071e-01\n",
      " 1.00000000e+00 1.00000000e+00]\n",
      "False Positive Rate : [0.         0.         0.         ... 0.99926662 0.99926662 1.        ]\n",
      "Thresholds : [1.99999994 0.99999994 0.99773849 ... 0.05724971 0.0569723  0.05079719]\n",
      "AUC score : 0.713183344346139\n"
     ]
    }
   ],
   "source": [
    "fpr, tpr, thresholds = roc_curve(y_score=y_pred_prob, y_true=y_test)\n",
    "print('True Positive Rate  : {}'.format(tpr))\n",
    "print('False Positive Rate : {}'.format(fpr))\n",
    "print('Thresholds : {}'.format(thresholds))\n",
    "\n",
    "auc_score = roc_auc_score(y_true=y_test, y_score=y_pred_prob)\n",
    "print('AUC score : {}'.format(auc_score))"
   ]
  },
  {
   "cell_type": "code",
   "execution_count": 130,
   "metadata": {},
   "outputs": [
    {
     "data": {
      "image/png": "[encoded data removed]",
      "text/plain": [
       "<Figure size 864x504 with 1 Axes>"
      ]
     },
     "metadata": {},
     "output_type": "display_data"
    }
   ],
   "source": [
    "plt.plot(fpr, tpr, label='ROC curve (area = %0.3f)' % auc_score)\n",
    "plt.plot([0,1], [0,1], 'k--')\n",
    "plt.xlim([0.0, 1.0])\n",
    "plt.ylim([0.0, 1.0])\n",
    "plt.xlabel('False Positive Rate (1-Specificity)')\n",
    "plt.ylabel('True Positive Rate (Sensitivity / Recall)')\n",
    "plt.title('Receiver Operating Characteristic')\n",
    "plt.legend(loc=\"lower right\")\n",
    "plt.show()"
   ]
  },
  {
   "cell_type": "code",
   "execution_count": null,
   "metadata": {},
   "outputs": [],
   "source": []
  }
 ],
 "metadata": {
  "kernelspec": {
   "display_name": "Python 3",
   "language": "python",
   "name": "python3"
  },
  "language_info": {
   "codemirror_mode": {
    "name": "ipython",
    "version": 3
   },
   "file_extension": ".py",
   "mimetype": "text/x-python",
   "name": "python",
   "nbconvert_exporter": "python",
   "pygments_lexer": "ipython3",
   "version": "3.7.5"
  }
 },
 "nbformat": 4,
 "nbformat_minor": 2
}
